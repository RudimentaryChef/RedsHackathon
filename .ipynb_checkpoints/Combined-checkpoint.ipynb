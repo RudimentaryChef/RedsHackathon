{
 "cells": [
  {
   "cell_type": "code",
   "execution_count": 5,
   "id": "6df1891c",
   "metadata": {},
   "outputs": [],
   "source": [
    "# Data Manipulation and Analysis\n",
    "import pandas as pd\n",
    "import numpy as np\n",
    "\n",
    "# Data Visualization\n",
    "import matplotlib.pyplot as plt\n",
    "import seaborn as sns\n",
    "import plotly.express as px\n",
    "\n",
    "#Statistical Modeling and Machine Learning\n",
    "from sklearn import model_selection, metrics, linear_model, ensemble\n",
    "import statsmodels.api as sm\n",
    "from scipy import stats\n",
    "#excel files\n",
    "import openpyxl\n"
   ]
  },
  {
   "cell_type": "code",
   "execution_count": 6,
   "id": "50ca4671",
   "metadata": {},
   "outputs": [],
   "source": [
    "#Viewing Options\n",
    "pd.set_option('display.max_rows', 100)\n",
    "pd.set_option('display.max_columns', 308)\n",
    "pd.set_option('display.width', None)"
   ]
  },
  {
   "cell_type": "code",
   "execution_count": 8,
   "id": "26dd30e0",
   "metadata": {},
   "outputs": [],
   "source": [
    "OG_fangraphs = pd.read_csv(\"fangraphs_season_level.csv\")\n",
    "OG_savant = pd.read_csv(\"savant_pitch_level.csv\")"
   ]
  },
  {
   "cell_type": "code",
   "execution_count": null,
   "id": "b9d689ad",
   "metadata": {},
   "outputs": [],
   "source": [
    "import pandas as pd\n",
    "\n",
    "#Finds the average of the \"Two halves\" for any column\n",
    "\n",
    "def calculate_average_dif(df, player_name, column):\n",
    "    #Filter the rows\n",
    "    player_rows = df[df['player_name'].str.contains(player_name, case=False, na=False)]\n",
    "\n",
    "    #Sort the stuff\n",
    "    sorted_player_rows = player_rows.sort_values(by='pitch_number_appearance')\n",
    "\n",
    "    # Split the sorted rows \n",
    "    first_half_player = sorted_player_rows.iloc[:len(sorted_player_rows) // 2]\n",
    "    second_half_player = sorted_player_rows.iloc[len(sorted_player_rows) // 2:]\n",
    "\n",
    "    # Find the averages\n",
    "    average_delta_run_exp_first_half = first_half_player[column].mean()\n",
    "    average_delta_run_exp_second_half = second_half_player[column].mean()\n",
    "\n",
    "    return average_delta_run_exp_first_half, average_delta_run_exp_second_half\n",
    "\n",
    "\n",
    "#Finds\n",
    "def calculateAllHalvesDifference(df,column):\n",
    "    unique_player_names = OG_savant['player_name'].unique()\n",
    "    players = []\n",
    "    avg_first_half = []\n",
    "    avg_second_half = []\n",
    "    for player_name in unique_player_names:\n",
    "        average_first_half, average_second_half = calculate_average_dif(OG_savant, player_name, column)\n",
    "        players.append(player_name)\n",
    "        avg_first_half.append(average_first_half)\n",
    "        avg_second_half.append(average_second_half)\n",
    "    difference = [second - first for first, second in zip(avg_first_half, avg_second_half)]\n",
    "    result_df = pd.DataFrame({\n",
    "    'Player': players,\n",
    "    'Average_First half: ' + column: avg_first_half,\n",
    "    'Average_Second half: ' + column: avg_second_half,\n",
    "    'Difference: ' + column: difference\n",
    "    })\n",
    "    return result_df\n",
    "\n",
    "\n",
    "calculated_df = calculateAllHalvesDifference(OG_savant,\"delta_run_exp\")"
   ]
  }
 ],
 "metadata": {
  "kernelspec": {
   "display_name": "Python 3 (ipykernel)",
   "language": "python",
   "name": "python3"
  },
  "language_info": {
   "codemirror_mode": {
    "name": "ipython",
    "version": 3
   },
   "file_extension": ".py",
   "mimetype": "text/x-python",
   "name": "python",
   "nbconvert_exporter": "python",
   "pygments_lexer": "ipython3",
   "version": "3.11.5"
  }
 },
 "nbformat": 4,
 "nbformat_minor": 5
}
