{
 "cells": [
  {
   "cell_type": "code",
   "execution_count": 1,
   "metadata": {},
   "outputs": [
    {
     "name": "stdout",
     "output_type": "stream",
     "text": [
      "savant_pitch_level.csv\r\n",
      "savant_pitch_level.csv\r\n",
      "savant_pitch_level.csv\r\n",
      "savant_pitch_level.csv\r\n",
      "savant_pitch_level.csv\r\n",
      "savant_pitch_level.csv\r\n"
     ]
    }
   ],
   "source": [
    "!touch .gitignore\n",
    "!echo \"savant_pitch_level.csv\" >> .gitignore\n",
    "!cat .gitignore"
   ]
  },
  {
   "cell_type": "code",
   "execution_count": 2,
   "metadata": {},
   "outputs": [
    {
     "name": "stdout",
     "output_type": "stream",
     "text": [
      "[main 9f5d435] added ease of life git features\n",
      " 2 files changed, 1217 insertions(+), 162 deletions(-)\n",
      "To https://github.com/RudimentaryChef/RedsHackathon.git\n",
      " \u001b[31m! [rejected]       \u001b[m main -> main (fetch first)\n",
      "\u001b[31merror: failed to push some refs to 'https://github.com/RudimentaryChef/RedsHackathon.git'\n",
      "\u001b[m\u001b[33mhint: Updates were rejected because the remote contains work that you do not\u001b[m\n",
      "\u001b[33mhint: have locally. This is usually caused by another repository pushing to\u001b[m\n",
      "\u001b[33mhint: the same ref. If you want to integrate the remote changes, use\u001b[m\n",
      "\u001b[33mhint: 'git pull' before pushing again.\u001b[m\n",
      "\u001b[33mhint: See the 'Note about fast-forwards' in 'git push --help' for details.\u001b[m\n"
     ]
    }
   ],
   "source": [
    "!git add .\n",
    "!git commit -m \"added ease of life git features\"\n",
    "!git push"
   ]
  },
  {
   "cell_type": "code",
   "execution_count": 3,
   "metadata": {},
   "outputs": [],
   "source": [
    "# Data Manipulation and Analysis\n",
    "import pandas as pd\n",
    "import numpy as np\n",
    "\n",
    "# Data Visualization\n",
    "import matplotlib.pyplot as plt\n",
    "import seaborn as sns\n",
    "import plotly.express as px\n",
    "\n",
    "# Statistical Modeling and Machine Learning\n",
    "from sklearn import model_selection, metrics, linear_model, ensemble\n",
    "import statsmodels.api as sm\n",
    "from scipy import stats\n",
    "#excel files\n",
    "import openpyxl\n",
    "\n",
    "\n"
   ]
  },
  {
   "cell_type": "code",
   "execution_count": 4,
   "metadata": {},
   "outputs": [],
   "source": [
    "fangraphs_data = pd.read_csv(\"fangraphs_season_level.csv\")\n",
    "savant_data = pd.read_csv(\"savant_pitch_level.csv\")"
   ]
  },
  {
   "cell_type": "code",
   "execution_count": 5,
   "metadata": {},
   "outputs": [
    {
     "ename": "NameError",
     "evalue": "name 'savanta_data' is not defined",
     "output_type": "error",
     "traceback": [
      "\u001b[0;31m---------------------------------------------------------------------------\u001b[0m",
      "\u001b[0;31mNameError\u001b[0m                                 Traceback (most recent call last)",
      "Cell \u001b[0;32mIn[5], line 2\u001b[0m\n\u001b[1;32m      1\u001b[0m OG_fangraphs \u001b[38;5;241m=\u001b[39m fangraphs_data\n\u001b[0;32m----> 2\u001b[0m OG_savant \u001b[38;5;241m=\u001b[39m savanta_data\n",
      "\u001b[0;31mNameError\u001b[0m: name 'savanta_data' is not defined"
     ]
    }
   ],
   "source": [
    "OG_fangraphs = fangraphs_data\n",
    "OG_savant = savanta_data"
   ]
  },
  {
   "cell_type": "code",
   "execution_count": null,
   "metadata": {},
   "outputs": [],
   "source": [
    "fangraphs_data.head()"
   ]
  },
  {
   "cell_type": "code",
   "execution_count": null,
   "metadata": {},
   "outputs": [],
   "source": [
    "print(fangraphs_data.columns)"
   ]
  },
  {
   "cell_type": "code",
   "execution_count": null,
   "metadata": {},
   "outputs": [],
   "source": [
    "fangraphs_columns = ['Name','PlayerId', 'Throws', 'Age', 'Team', 'Role', 'ERA', 'G', 'GS', \n",
    "                   'IP', 'SO', 'BB', 'SV', 'HLD', 'FIP', 'xFIP', 'SIERA', 'WHIP']\n",
    "\n",
    "fangraphs_data = fangraphs_data[fangraphs_columns]"
   ]
  },
  {
   "cell_type": "code",
   "execution_count": null,
   "metadata": {},
   "outputs": [],
   "source": [
    "savant_data.columns\n",
    "savant_columns = ['player_name', 'pitch_type', 'release_speed', 'release_spin_rate', \n",
    "                  'events', 'pfx_x', 'pfx_z', 'vx0', 'vy0', 'vz0', 'ax', 'ay', 'az', \n",
    "                  'spin_axis', 'game_year']\n",
    "\n",
    "savant_data = savant_data[savant_columns]"
   ]
  },
  {
   "cell_type": "code",
   "execution_count": null,
   "metadata": {},
   "outputs": [],
   "source": [
    "savant_data['player_name'] = savant_data['player_name'].str.split(', ').str[::-1].str.join(' ')\n",
    "savant_data['player_name'] = savant_data['player_name'].astype(str)\n",
    "fangraphs_data['Name'] = fangraphs_data['Name'].astype(str)\n",
    "\n",
    "\n",
    "merged_data = pd.merge(savant_data, fangraphs_data, left_on='player_name', right_on='Name')\n"
   ]
  },
  {
   "cell_type": "code",
   "execution_count": null,
   "metadata": {},
   "outputs": [],
   "source": [
    "merged_data.head()"
   ]
  },
  {
   "cell_type": "code",
   "execution_count": null,
   "metadata": {},
   "outputs": [],
   "source": [
    "merged_data.head(50)"
   ]
  }
 ],
 "metadata": {
  "kernelspec": {
   "display_name": "Python 3 (ipykernel)",
   "language": "python",
   "name": "python3"
  },
  "language_info": {
   "codemirror_mode": {
    "name": "ipython",
    "version": 3
   },
   "file_extension": ".py",
   "mimetype": "text/x-python",
   "name": "python",
   "nbconvert_exporter": "python",
   "pygments_lexer": "ipython3",
   "version": "3.11.5"
  }
 },
 "nbformat": 4,
 "nbformat_minor": 2
}
