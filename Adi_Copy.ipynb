{
 "cells": [
  {
   "cell_type": "code",
   "execution_count": 1,
   "metadata": {},
   "outputs": [
    {
     "name": "stdout",
     "output_type": "stream",
     "text": [
      "savant_pitch_level.csv\r\n",
      "savant_pitch_level.csv\r\n",
      "savant_pitch_level.csv\r\n",
      "savant_pitch_level.csv\r\n",
      "savant_pitch_level.csv\r\n",
      "savant_pitch_level.csv\r\n"
     ]
    }
   ],
   "source": [
    "!touch .gitignore\n",
    "!echo \"savant_pitch_level.csv\" >> .gitignore\n",
    "!cat .gitignore"
   ]
  },
  {
   "cell_type": "code",
   "execution_count": 7,
   "metadata": {},
   "outputs": [
    {
     "name": "stdout",
     "output_type": "stream",
     "text": [
      "remote: Enumerating objects: 4, done.\u001b[K\n",
      "remote: Counting objects: 100% (4/4), done.\u001b[K\n",
      "remote: Compressing objects: 100% (2/2), done.\u001b[K\n",
      "remote: Total 3 (delta 1), reused 3 (delta 1), pack-reused 0\u001b[K\n",
      "Unpacking objects: 100% (3/3), 7.55 KiB | 2.52 MiB/s, done.\n",
      "From https://github.com/RudimentaryChef/RedsHackathon\n",
      "   d33fcc6..83618a8  main       -> origin/main\n",
      "\u001b[33mhint: You have divergent branches and need to specify how to reconcile them.\u001b[m\n",
      "\u001b[33mhint: You can do so by running one of the following commands sometime before\u001b[m\n",
      "\u001b[33mhint: your next pull:\u001b[m\n",
      "\u001b[33mhint: \u001b[m\n",
      "\u001b[33mhint:   git config pull.rebase false  # merge\u001b[m\n",
      "\u001b[33mhint:   git config pull.rebase true   # rebase\u001b[m\n",
      "\u001b[33mhint:   git config pull.ff only       # fast-forward only\u001b[m\n",
      "\u001b[33mhint: \u001b[m\n",
      "\u001b[33mhint: You can replace \"git config\" with \"git config --global\" to set a default\u001b[m\n",
      "\u001b[33mhint: preference for all repositories. You can also pass --rebase, --no-rebase,\u001b[m\n",
      "\u001b[33mhint: or --ff-only on the command line to override the configured default per\u001b[m\n",
      "\u001b[33mhint: invocation.\u001b[m\n",
      "fatal: Need to specify how to reconcile divergent branches.\n"
     ]
    }
   ],
   "source": [
    "!git add .\n",
    "!git commit -m \"added ease of life git features\"\n",
    "!git push"
   ]
  },
  {
   "cell_type": "code",
   "execution_count": null,
   "metadata": {},
   "outputs": [],
   "source": []
  },
  {
   "cell_type": "code",
   "execution_count": 3,
   "metadata": {},
   "outputs": [],
   "source": [
    "# Data Manipulation and Analysis\n",
    "import pandas as pd\n",
    "import numpy as np\n",
    "\n",
    "# Data Visualization\n",
    "import matplotlib.pyplot as plt\n",
    "import seaborn as sns\n",
    "import plotly.express as px\n",
    "\n",
    "# Statistical Modeling and Machine Learning\n",
    "from sklearn import model_selection, metrics, linear_model, ensemble\n",
    "import statsmodels.api as sm\n",
    "from scipy import stats\n",
    "#excel files\n",
    "import openpyxl\n",
    "\n",
    "\n"
   ]
  },
  {
   "cell_type": "code",
   "execution_count": 4,
   "metadata": {},
   "outputs": [],
   "source": [
    "fangraphs_data = pd.read_csv(\"fangraphs_season_level.csv\")\n",
    "savant_data = pd.read_csv(\"savant_pitch_level.csv\")"
   ]
  },
  {
   "cell_type": "code",
   "execution_count": 5,
   "metadata": {},
   "outputs": [
    {
     "ename": "NameError",
     "evalue": "name 'savanta_data' is not defined",
     "output_type": "error",
     "traceback": [
      "\u001b[0;31m---------------------------------------------------------------------------\u001b[0m",
      "\u001b[0;31mNameError\u001b[0m                                 Traceback (most recent call last)",
      "Cell \u001b[0;32mIn[5], line 2\u001b[0m\n\u001b[1;32m      1\u001b[0m OG_fangraphs \u001b[38;5;241m=\u001b[39m fangraphs_data\n\u001b[0;32m----> 2\u001b[0m OG_savant \u001b[38;5;241m=\u001b[39m savanta_data\n",
      "\u001b[0;31mNameError\u001b[0m: name 'savanta_data' is not defined"
     ]
    }
   ],
   "source": [
    "OG_fangraphs = fangraphs_data\n",
    "OG_savant = savanta_data"
   ]
  },
  {
   "cell_type": "code",
   "execution_count": null,
   "metadata": {},
   "outputs": [],
   "source": [
    "fangraphs_data.head()"
   ]
  },
  {
   "cell_type": "code",
   "execution_count": null,
   "metadata": {},
   "outputs": [],
   "source": [
    "print(fangraphs_data.columns)"
   ]
  },
  {
   "cell_type": "code",
   "execution_count": null,
   "metadata": {},
   "outputs": [],
   "source": [
    "fangraphs_columns = ['Name','PlayerId', 'Throws', 'Age', 'Team', 'Role', 'ERA', 'G', 'GS', \n",
    "                   'IP', 'SO', 'BB', 'SV', 'HLD', 'FIP', 'xFIP', 'SIERA', 'WHIP']\n",
    "\n",
    "fangraphs_data = fangraphs_data[fangraphs_columns]"
   ]
  },
  {
   "cell_type": "code",
   "execution_count": null,
   "metadata": {},
   "outputs": [],
   "source": [
    "savant_data.columns\n",
    "savant_columns = ['player_name', 'pitch_type', 'release_speed', 'release_spin_rate', \n",
    "                  'events', 'pfx_x', 'pfx_z', 'vx0', 'vy0', 'vz0', 'ax', 'ay', 'az', \n",
    "                  'spin_axis', 'game_year']\n",
    "\n",
    "savant_data = savant_data[savant_columns]"
   ]
  },
  {
   "cell_type": "code",
   "execution_count": null,
   "metadata": {},
   "outputs": [],
   "source": [
    "savant_data['player_name'] = savant_data['player_name'].str.split(', ').str[::-1].str.join(' ')\n",
    "savant_data['player_name'] = savant_data['player_name'].astype(str)\n",
    "fangraphs_data['Name'] = fangraphs_data['Name'].astype(str)\n",
    "\n",
    "\n",
    "merged_data = pd.merge(savant_data, fangraphs_data, left_on='player_name', right_on='Name')\n"
   ]
  },
  {
   "cell_type": "code",
   "execution_count": null,
   "metadata": {},
   "outputs": [],
   "source": [
    "merged_data.head()"
   ]
  },
  {
   "cell_type": "code",
   "execution_count": null,
   "metadata": {},
   "outputs": [],
   "source": [
    "merged_data.head(50)"
   ]
  }
 ],
 "metadata": {
  "kernelspec": {
   "display_name": "Python 3 (ipykernel)",
   "language": "python",
   "name": "python3"
  },
  "language_info": {
   "codemirror_mode": {
    "name": "ipython",
    "version": 3
   },
   "file_extension": ".py",
   "mimetype": "text/x-python",
   "name": "python",
   "nbconvert_exporter": "python",
   "pygments_lexer": "ipython3",
   "version": "3.11.5"
  }
 },
 "nbformat": 4,
 "nbformat_minor": 2
}
